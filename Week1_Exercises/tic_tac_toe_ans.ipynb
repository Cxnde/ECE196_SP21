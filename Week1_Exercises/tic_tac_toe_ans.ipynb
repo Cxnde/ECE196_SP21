{
 "cells": [
  {
   "cell_type": "markdown",
   "metadata": {},
   "source": [
    "<h1>Project Description</h1><br>\n",
    "The following project attempts to replicate the game to Tic-Tac-Toe. This game is playable by two player and the game ends when one of the player has won, or if the game ends in a draw. The board is printed out after each move for visualization purposes."
   ]
  },
  {
   "cell_type": "markdown",
   "metadata": {},
   "source": [
    "<h1>Import the Necessary Files</h1>"
   ]
  },
  {
   "cell_type": "code",
   "execution_count": 1,
   "metadata": {},
   "outputs": [],
   "source": [
    "import sys\n",
    "import numpy as np\n",
    "from IPython.display import clear_output"
   ]
  },
  {
   "cell_type": "markdown",
   "metadata": {},
   "source": [
    "<h1>Helper Function</h1>"
   ]
  },
  {
   "cell_type": "markdown",
   "metadata": {},
   "source": [
    "<h2>print_board()</h2><br>\n",
    "This following function prints the tic-tac-toe board in a nice format. It should be called each time the tic-tac-toe board is updated. It should take in the current state of the tic-tac-toe board as parameter and print it in the appropriate format.<br><br>\n",
    "<b>Note:</b> player 1 is marked with <i>x</i> and player 2 is marked with <i>o</i> and any empty space is marked as <i>-</i> (the dash character)."
   ]
  },
  {
   "cell_type": "code",
   "execution_count": 2,
   "metadata": {},
   "outputs": [],
   "source": [
    "def print_board(board):\n",
    "    '''\n",
    "        This function prints the current state of the game board\n",
    "        board is a 3x3 numpy array\n",
    "        print x for 0\n",
    "        print o for 1\n",
    "        print - for default\n",
    "    '''\n",
    "    for row in board:\n",
    "        for item in row:\n",
    "            # use nested for loop to iterate through each element in 2D array\n",
    "            if item == 0:\n",
    "                print('x', end = ' ') # set the end to be a space to avoid printing a new line\n",
    "            elif item == 1:\n",
    "                print('o', end = ' ')\n",
    "            else:\n",
    "                print('-', end = ' ')\n",
    "        print('') # print nothing but print statement after this will be in the next line"
   ]
  },
  {
   "cell_type": "markdown",
   "metadata": {},
   "source": [
    "<h2> check_win()</h2><br>\n",
    "This function checks the current state of the board to determine if any player is won the game or not. It should take in the current state of the tic-tac-toe board as parameter and should be called after every move. This function should return 0 if player 1 won the game, and return 1 if player 2 won the game and -1 if none of the player won the game.<br><br>\n",
    "\n",
    "<b>Note:</b> Don't forget to check both of the diagonals, alongside the horizontal and vertical winning position."
   ]
  },
  {
   "cell_type": "code",
   "execution_count": 3,
   "metadata": {},
   "outputs": [],
   "source": [
    "def check_win(board):\n",
    "    '''\n",
    "        This function checks if the board has winning position\n",
    "        Return values:\n",
    "            - 0: if player 1 won the game\n",
    "            - 1: if player 2 won the game\n",
    "            - -1: if there's no winning move\n",
    "    '''    \n",
    "     ## check here for win horizontal direction\n",
    "    for row in board:\n",
    "        if np.all(row == 0):\n",
    "            print(\"player 1 has won\")\n",
    "            return 0\n",
    "        if np.all(row == 1):\n",
    "            print(\"player 2 has won\")\n",
    "            return 1\n",
    "            \n",
    "    ## check for win vertical direction\n",
    "    # numpy array .T transposes the array\n",
    "    for col in board.T:\n",
    "        if np.all(col == 0):\n",
    "            print(\"player 1 has won\")\n",
    "            return 0\n",
    "        if np.all(col == 1):\n",
    "            print(\"player 2 has won\")\n",
    "            return 1\n",
    "    \n",
    "    ## Main diagonal\n",
    "    if np.all(np.diag(board) == 0):\n",
    "        print(\"player 1 has won\")\n",
    "        return 0\n",
    "    elif np.all(np.diag(board) == 1):\n",
    "        print(\"player 2 has won\")\n",
    "        return 1\n",
    "        \n",
    "    ## Sub diagonal\n",
    "    if np.all(np.diag(np.fliplr(board)) == 0):\n",
    "        print(\"player 1 has won\")\n",
    "        return 0\n",
    "    if np.all(np.diag(np.fliplr(board)) == 1):\n",
    "        print(\"player 2 has won\")\n",
    "        return 1\n",
    "    \n",
    "    return -1"
   ]
  },
  {
   "cell_type": "markdown",
   "metadata": {},
   "source": [
    "<h1>check_draw()</h1><br>\n",
    "This function check to see if the current state of the board end the game in a draw. It should take in the current state of the tic-tac-toe boars as a parameter and should be called after every move. This function should return 1 if the current state of the board ends the game in a draw and 0 if the game doesn't end in a draw."
   ]
  },
  {
   "cell_type": "code",
   "execution_count": 4,
   "metadata": {},
   "outputs": [],
   "source": [
    "def check_draw(board):\n",
    "    '''\n",
    "        This funcion check if the game if ending in a draw or not\n",
    "    '''\n",
    "    raise NotImplementedError    # delete this line to write the function"
   ]
  },
  {
   "cell_type": "markdown",
   "metadata": {},
   "source": [
    "<h1>insert_move()</h1><br>\n",
    "This funciton updates the tic-tac-board with the most recent move. It should take in the current state of the tic-tac-toe board as a parameter, as well as the move made by the most player, and the player that made the move as a parameter. It returns 1 if the move was a valid move, and -1 for invalid move. After an invalid move, that corresponding player should be asked to make another move."
   ]
  },
  {
   "cell_type": "code",
   "execution_count": 5,
   "metadata": {},
   "outputs": [],
   "source": [
    "def insert_move(board, move, player):\n",
    "    '''\n",
    "        Insert move into the board\n",
    "        Input:\n",
    "            - board: the game board\n",
    "            - move: the current move\n",
    "            - Player: 0 if player 1, 1 if player 2\n",
    "        Return:\n",
    "            - -1: if invalid move\n",
    "            - 1: if valid move\n",
    "    '''\n",
    "    ## Check move within bound\n",
    "    if move > 9 or move <= 0:\n",
    "        return -1\n",
    "    \n",
    "    ## move == 1, 2, 3 ==> row 0\n",
    "    ## move == 4, 5, 6 ==> row 1\n",
    "    ## move == 7, 8, 9 ==> row 2\n",
    "    \n",
    "    ## move == 1, 4, 7 ==> col 0\n",
    "    ## move == 2, 5, 8 ==> col 1\n",
    "    ## move == 3, 6, 9 ==> col 3\n",
    "    \n",
    "    move = move - 1 # python index starts from 0!\n",
    "    row = int(move / 3)\n",
    "    col = move % 3\n",
    "    \n",
    "    ## Check move not taken\n",
    "    if board[row, col] == 0 or board[row, col] == 1:\n",
    "        return -1\n",
    "    \n",
    "    board[row, col] = player\n",
    "    return 1"
   ]
  },
  {
   "cell_type": "markdown",
   "metadata": {},
   "source": [
    "The following is the piece of logic that controls the flow of the game."
   ]
  },
  {
   "cell_type": "code",
   "execution_count": 6,
   "metadata": {},
   "outputs": [
    {
     "name": "stdout",
     "output_type": "stream",
     "text": [
      "current board:\n",
      "- - - \n",
      "- - - \n",
      "- - - \n"
     ]
    },
    {
     "ename": "KeyboardInterrupt",
     "evalue": "",
     "output_type": "error",
     "traceback": [
      "\u001b[0;31m---------------------------------------------------------------------------\u001b[0m",
      "\u001b[0;31mKeyboardInterrupt\u001b[0m                         Traceback (most recent call last)",
      "\u001b[0;32m/Library/Frameworks/Python.framework/Versions/3.7/lib/python3.7/site-packages/ipykernel/kernelbase.py\u001b[0m in \u001b[0;36m_input_request\u001b[0;34m(self, prompt, ident, parent, password)\u001b[0m\n\u001b[1;32m    883\u001b[0m             \u001b[0;32mtry\u001b[0m\u001b[0;34m:\u001b[0m\u001b[0;34m\u001b[0m\u001b[0;34m\u001b[0m\u001b[0m\n\u001b[0;32m--> 884\u001b[0;31m                 \u001b[0mident\u001b[0m\u001b[0;34m,\u001b[0m \u001b[0mreply\u001b[0m \u001b[0;34m=\u001b[0m \u001b[0mself\u001b[0m\u001b[0;34m.\u001b[0m\u001b[0msession\u001b[0m\u001b[0;34m.\u001b[0m\u001b[0mrecv\u001b[0m\u001b[0;34m(\u001b[0m\u001b[0mself\u001b[0m\u001b[0;34m.\u001b[0m\u001b[0mstdin_socket\u001b[0m\u001b[0;34m,\u001b[0m \u001b[0;36m0\u001b[0m\u001b[0;34m)\u001b[0m\u001b[0;34m\u001b[0m\u001b[0;34m\u001b[0m\u001b[0m\n\u001b[0m\u001b[1;32m    885\u001b[0m             \u001b[0;32mexcept\u001b[0m \u001b[0mException\u001b[0m\u001b[0;34m:\u001b[0m\u001b[0;34m\u001b[0m\u001b[0;34m\u001b[0m\u001b[0m\n",
      "\u001b[0;32m/Library/Frameworks/Python.framework/Versions/3.7/lib/python3.7/site-packages/jupyter_client/session.py\u001b[0m in \u001b[0;36mrecv\u001b[0;34m(self, socket, mode, content, copy)\u001b[0m\n\u001b[1;32m    802\u001b[0m         \u001b[0;32mtry\u001b[0m\u001b[0;34m:\u001b[0m\u001b[0;34m\u001b[0m\u001b[0;34m\u001b[0m\u001b[0m\n\u001b[0;32m--> 803\u001b[0;31m             \u001b[0mmsg_list\u001b[0m \u001b[0;34m=\u001b[0m \u001b[0msocket\u001b[0m\u001b[0;34m.\u001b[0m\u001b[0mrecv_multipart\u001b[0m\u001b[0;34m(\u001b[0m\u001b[0mmode\u001b[0m\u001b[0;34m,\u001b[0m \u001b[0mcopy\u001b[0m\u001b[0;34m=\u001b[0m\u001b[0mcopy\u001b[0m\u001b[0;34m)\u001b[0m\u001b[0;34m\u001b[0m\u001b[0;34m\u001b[0m\u001b[0m\n\u001b[0m\u001b[1;32m    804\u001b[0m         \u001b[0;32mexcept\u001b[0m \u001b[0mzmq\u001b[0m\u001b[0;34m.\u001b[0m\u001b[0mZMQError\u001b[0m \u001b[0;32mas\u001b[0m \u001b[0me\u001b[0m\u001b[0;34m:\u001b[0m\u001b[0;34m\u001b[0m\u001b[0;34m\u001b[0m\u001b[0m\n",
      "\u001b[0;32m/Library/Frameworks/Python.framework/Versions/3.7/lib/python3.7/site-packages/zmq/sugar/socket.py\u001b[0m in \u001b[0;36mrecv_multipart\u001b[0;34m(self, flags, copy, track)\u001b[0m\n\u001b[1;32m    474\u001b[0m         \"\"\"\n\u001b[0;32m--> 475\u001b[0;31m         \u001b[0mparts\u001b[0m \u001b[0;34m=\u001b[0m \u001b[0;34m[\u001b[0m\u001b[0mself\u001b[0m\u001b[0;34m.\u001b[0m\u001b[0mrecv\u001b[0m\u001b[0;34m(\u001b[0m\u001b[0mflags\u001b[0m\u001b[0;34m,\u001b[0m \u001b[0mcopy\u001b[0m\u001b[0;34m=\u001b[0m\u001b[0mcopy\u001b[0m\u001b[0;34m,\u001b[0m \u001b[0mtrack\u001b[0m\u001b[0;34m=\u001b[0m\u001b[0mtrack\u001b[0m\u001b[0;34m)\u001b[0m\u001b[0;34m]\u001b[0m\u001b[0;34m\u001b[0m\u001b[0;34m\u001b[0m\u001b[0m\n\u001b[0m\u001b[1;32m    476\u001b[0m         \u001b[0;31m# have first part already, only loop while more to receive\u001b[0m\u001b[0;34m\u001b[0m\u001b[0;34m\u001b[0m\u001b[0;34m\u001b[0m\u001b[0m\n",
      "\u001b[0;32mzmq/backend/cython/socket.pyx\u001b[0m in \u001b[0;36mzmq.backend.cython.socket.Socket.recv\u001b[0;34m()\u001b[0m\n",
      "\u001b[0;32mzmq/backend/cython/socket.pyx\u001b[0m in \u001b[0;36mzmq.backend.cython.socket.Socket.recv\u001b[0;34m()\u001b[0m\n",
      "\u001b[0;32mzmq/backend/cython/socket.pyx\u001b[0m in \u001b[0;36mzmq.backend.cython.socket._recv_copy\u001b[0;34m()\u001b[0m\n",
      "\u001b[0;32m/Library/Frameworks/Python.framework/Versions/3.7/lib/python3.7/site-packages/zmq/backend/cython/checkrc.pxd\u001b[0m in \u001b[0;36mzmq.backend.cython.checkrc._check_rc\u001b[0;34m()\u001b[0m\n",
      "\u001b[0;31mKeyboardInterrupt\u001b[0m: ",
      "\nDuring handling of the above exception, another exception occurred:\n",
      "\u001b[0;31mKeyboardInterrupt\u001b[0m                         Traceback (most recent call last)",
      "\u001b[0;32m<ipython-input-6-0da536b828cf>\u001b[0m in \u001b[0;36m<module>\u001b[0;34m\u001b[0m\n\u001b[1;32m     16\u001b[0m     \u001b[0;32mwhile\u001b[0m \u001b[0mis_valid\u001b[0m \u001b[0;34m==\u001b[0m \u001b[0;34m-\u001b[0m\u001b[0;36m1\u001b[0m\u001b[0;34m:\u001b[0m\u001b[0;34m\u001b[0m\u001b[0;34m\u001b[0m\u001b[0m\n\u001b[1;32m     17\u001b[0m         \u001b[0mmessage\u001b[0m \u001b[0;34m=\u001b[0m \u001b[0;34m\"Player \"\u001b[0m \u001b[0;34m+\u001b[0m \u001b[0mstr\u001b[0m\u001b[0;34m(\u001b[0m\u001b[0mplayer\u001b[0m \u001b[0;34m+\u001b[0m \u001b[0;36m1\u001b[0m\u001b[0;34m)\u001b[0m \u001b[0;34m+\u001b[0m \u001b[0;34m\" move:\"\u001b[0m\u001b[0;34m\u001b[0m\u001b[0;34m\u001b[0m\u001b[0m\n\u001b[0;32m---> 18\u001b[0;31m         \u001b[0mmove\u001b[0m \u001b[0;34m=\u001b[0m \u001b[0mint\u001b[0m\u001b[0;34m(\u001b[0m\u001b[0minput\u001b[0m\u001b[0;34m(\u001b[0m\u001b[0mmessage\u001b[0m\u001b[0;34m)\u001b[0m\u001b[0;34m)\u001b[0m\u001b[0;34m\u001b[0m\u001b[0;34m\u001b[0m\u001b[0m\n\u001b[0m\u001b[1;32m     19\u001b[0m         \u001b[0mis_valid\u001b[0m \u001b[0;34m=\u001b[0m \u001b[0minsert_move\u001b[0m\u001b[0;34m(\u001b[0m\u001b[0mboard\u001b[0m\u001b[0;34m,\u001b[0m \u001b[0mmove\u001b[0m\u001b[0;34m,\u001b[0m \u001b[0mplayer\u001b[0m\u001b[0;34m)\u001b[0m\u001b[0;34m\u001b[0m\u001b[0;34m\u001b[0m\u001b[0m\n\u001b[1;32m     20\u001b[0m \u001b[0;34m\u001b[0m\u001b[0m\n",
      "\u001b[0;32m/Library/Frameworks/Python.framework/Versions/3.7/lib/python3.7/site-packages/ipykernel/kernelbase.py\u001b[0m in \u001b[0;36mraw_input\u001b[0;34m(self, prompt)\u001b[0m\n\u001b[1;32m    857\u001b[0m             \u001b[0mself\u001b[0m\u001b[0;34m.\u001b[0m\u001b[0m_parent_ident\u001b[0m\u001b[0;34m,\u001b[0m\u001b[0;34m\u001b[0m\u001b[0;34m\u001b[0m\u001b[0m\n\u001b[1;32m    858\u001b[0m             \u001b[0mself\u001b[0m\u001b[0;34m.\u001b[0m\u001b[0m_parent_header\u001b[0m\u001b[0;34m,\u001b[0m\u001b[0;34m\u001b[0m\u001b[0;34m\u001b[0m\u001b[0m\n\u001b[0;32m--> 859\u001b[0;31m             \u001b[0mpassword\u001b[0m\u001b[0;34m=\u001b[0m\u001b[0;32mFalse\u001b[0m\u001b[0;34m,\u001b[0m\u001b[0;34m\u001b[0m\u001b[0;34m\u001b[0m\u001b[0m\n\u001b[0m\u001b[1;32m    860\u001b[0m         )\n\u001b[1;32m    861\u001b[0m \u001b[0;34m\u001b[0m\u001b[0m\n",
      "\u001b[0;32m/Library/Frameworks/Python.framework/Versions/3.7/lib/python3.7/site-packages/ipykernel/kernelbase.py\u001b[0m in \u001b[0;36m_input_request\u001b[0;34m(self, prompt, ident, parent, password)\u001b[0m\n\u001b[1;32m    887\u001b[0m             \u001b[0;32mexcept\u001b[0m \u001b[0mKeyboardInterrupt\u001b[0m\u001b[0;34m:\u001b[0m\u001b[0;34m\u001b[0m\u001b[0;34m\u001b[0m\u001b[0m\n\u001b[1;32m    888\u001b[0m                 \u001b[0;31m# re-raise KeyboardInterrupt, to truncate traceback\u001b[0m\u001b[0;34m\u001b[0m\u001b[0;34m\u001b[0m\u001b[0;34m\u001b[0m\u001b[0m\n\u001b[0;32m--> 889\u001b[0;31m                 \u001b[0;32mraise\u001b[0m \u001b[0mKeyboardInterrupt\u001b[0m\u001b[0;34m\u001b[0m\u001b[0;34m\u001b[0m\u001b[0m\n\u001b[0m\u001b[1;32m    890\u001b[0m             \u001b[0;32melse\u001b[0m\u001b[0;34m:\u001b[0m\u001b[0;34m\u001b[0m\u001b[0;34m\u001b[0m\u001b[0m\n\u001b[1;32m    891\u001b[0m                 \u001b[0;32mbreak\u001b[0m\u001b[0;34m\u001b[0m\u001b[0;34m\u001b[0m\u001b[0m\n",
      "\u001b[0;31mKeyboardInterrupt\u001b[0m: "
     ]
    }
   ],
   "source": [
    "# Initialize variables here\n",
    "board = np.zeros((3,3)) + sys.float_info.epsilon\n",
    "player = 0\n",
    "\n",
    "# board = np.array([[1, sys.float_info.epsilon,sys.float_info.epsilon],  [1, sys.float_info.epsilon, sys.float_info.epsilon], [1, 1, 1]])\n",
    "# print_board(board)\n",
    "\n",
    "counter = 0\n",
    "# Implement the logic of the gameplay\n",
    "while check_win(board) == -1 and counter < 9:    # continue playing the game as long as no one has won\n",
    "    clear_output()\n",
    "    print(\"current board:\")\n",
    "    print_board(board)\n",
    "\n",
    "    is_valid = -1\n",
    "    while is_valid == -1:\n",
    "        message = \"Player \" + str(player + 1) + \" move:\"\n",
    "        move = int(input(message))\n",
    "        is_valid = insert_move(board, move, player)\n",
    "        \n",
    "        if is_valid == -1:\n",
    "            print(\"Enter a valid move!\")\n",
    "            print_board(board)\n",
    "\n",
    "    counter += 1\n",
    "    if player == 0:\n",
    "        player = 1\n",
    "    else:\n",
    "        player = 0\n",
    "    \n",
    "# Print out the winning player\n",
    "print(\"End GAME!\")\n",
    "print_board(board)"
   ]
  },
  {
   "cell_type": "markdown",
   "metadata": {},
   "source": [
    "<h1>Possible Extension</h1><br>\n",
    "<ul>\n",
    "    <li>Implement an early end strategy. There are games in which we know in advance it will end in a draw. In those scenario, implement a strategy in which the game ends early, rather than continuing to play the game.</li>\n",
    "    <li>Implement an AI that can play this game as a computer. For a near perfect strategy, refer to the following video <a href = 'https://youtu.be/OmC07DvEayY'>link</a>.</li>\n",
    "    <li>Better UI. Refer to the follwing <a href = 'https://likegeeks.com/python-gui-examples-tkinter-tutorial/'>link</a> for a tutorial on Tkinter (Python's GUI Library).</li>\n",
    "</ul>"
   ]
  },
  {
   "cell_type": "code",
   "execution_count": null,
   "metadata": {},
   "outputs": [],
   "source": []
  }
 ],
 "metadata": {
  "kernelspec": {
   "display_name": "Python 3",
   "language": "python",
   "name": "python3"
  },
  "language_info": {
   "codemirror_mode": {
    "name": "ipython",
    "version": 3
   },
   "file_extension": ".py",
   "mimetype": "text/x-python",
   "name": "python",
   "nbconvert_exporter": "python",
   "pygments_lexer": "ipython3",
   "version": "3.7.2"
  }
 },
 "nbformat": 4,
 "nbformat_minor": 4
}
